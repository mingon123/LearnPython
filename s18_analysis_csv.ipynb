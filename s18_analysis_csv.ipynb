{
 "cells": [
  {
   "cell_type": "code",
   "execution_count": null,
   "id": "c4dea9fa",
   "metadata": {},
   "outputs": [
    {
     "name": "stdout",
     "output_type": "stream",
     "text": [
      "<_csv.reader object at 0x00000266F90D3D60>\n"
     ]
    }
   ],
   "source": [
    "import csv\n",
    "\n",
    "f = open(\"files/a.csv\",\"r\")\n",
    "#객체 f를 csv.reader로 읽어서  new 변수에 저장\n",
    "new = csv.reader(f)\n",
    "print(new) #csv 모듈의 객체"
   ]
  },
  {
   "cell_type": "code",
   "execution_count": null,
   "id": "16621ff2",
   "metadata": {},
   "outputs": [
    {
     "name": "stdout",
     "output_type": "stream",
     "text": [
      "--------------------------------------------------\n",
      "['국어', '영어', '수학']\n",
      "['90', '80', '100']\n",
      "[['국어', '영어', '수학'], ['90', '80', '100']]\n"
     ]
    }
   ],
   "source": [
    "for i in new:\n",
    "    print(i)\n",
    "print('-' * 50)\n",
    "\n",
    "#다시 파일을 읽으려면 커서를 처음으로 이동\n",
    "f.seek(0)\n",
    "\n",
    "#a.csv 파일의 내용을 파이썬에서 사용할 수 있도록 csv형 리스트로 바꿈\n",
    "a_list = []\n",
    "\n",
    "for i in new:\n",
    "    print(i) #리스트 반환\n",
    "    a_list.append(i)\n",
    "print(a_list)\n",
    "\n",
    "f.close()"
   ]
  },
  {
   "cell_type": "code",
   "execution_count": 6,
   "id": "579e615c",
   "metadata": {},
   "outputs": [
    {
     "name": "stdout",
     "output_type": "stream",
     "text": [
      "[['이름', '국어', '영어', '수학'], ['홍길동', '90', '80', '100'], ['박문수', '80', '90', '90'], ['장영실', '100', '80', '60']]\n"
     ]
    }
   ],
   "source": [
    "from usecsv import opencsv\n",
    "\n",
    "print(opencsv(\"files/example2.csv\",\"utf-8\"))"
   ]
  },
  {
   "cell_type": "code",
   "execution_count": 13,
   "id": "c4db2fd9",
   "metadata": {},
   "outputs": [
    {
     "name": "stdout",
     "output_type": "stream",
     "text": [
      "csv 파일을 생성함\n"
     ]
    }
   ],
   "source": [
    "a = [['구','전체','내국인','외국인'],\n",
    "     ['관악구','519864','502089','17775'],\n",
    "     ['강남구','547602','542498','5104'],\n",
    "     ['송파구','686181','679247','6934'],\n",
    "     ['강동구','428547','424235','4312']\n",
    "    ]\n",
    "\n",
    "f = open('files/abc.csv','w',encoding='utf-8',newline='')\n",
    "#newline=''을 open()함수에 입력해야 함. 이것을 입력하지 않으면 줄바꿈이 한 번 더 일어남\n",
    "csvobject = csv.writer(f,delimiter=',')\n",
    "#csv형 리스트가 저장된 객체를 파일에 쓸 때 writerows 사용\n",
    "csvobject.writerows(a)\n",
    "print(\"csv 파일을 생성함\")\n",
    "f.close()"
   ]
  },
  {
   "cell_type": "code",
   "execution_count": 18,
   "id": "79558c31",
   "metadata": {},
   "outputs": [
    {
     "ename": "ImportError",
     "evalue": "cannot import name 'writecsv' from 'usecsv' (c:\\Class\\python_work\\usecsv.py)",
     "output_type": "error",
     "traceback": [
      "\u001b[31m---------------------------------------------------------------------------\u001b[39m",
      "\u001b[31mImportError\u001b[39m                               Traceback (most recent call last)",
      "\u001b[36mCell\u001b[39m\u001b[36m \u001b[39m\u001b[32mIn[18]\u001b[39m\u001b[32m, line 1\u001b[39m\n\u001b[32m----> \u001b[39m\u001b[32m1\u001b[39m \u001b[38;5;28;01mfrom\u001b[39;00m\u001b[38;5;250m \u001b[39m\u001b[34;01musecsv\u001b[39;00m\u001b[38;5;250m \u001b[39m\u001b[38;5;28;01mimport\u001b[39;00m writecsv\n\u001b[32m      3\u001b[39m a = [[\u001b[33m'\u001b[39m\u001b[33m구\u001b[39m\u001b[33m'\u001b[39m,\u001b[33m'\u001b[39m\u001b[33m전체\u001b[39m\u001b[33m'\u001b[39m,\u001b[33m'\u001b[39m\u001b[33m내국인\u001b[39m\u001b[33m'\u001b[39m,\u001b[33m'\u001b[39m\u001b[33m외국인\u001b[39m\u001b[33m'\u001b[39m],\n\u001b[32m      4\u001b[39m      [\u001b[33m'\u001b[39m\u001b[33m관악구\u001b[39m\u001b[33m'\u001b[39m,\u001b[33m'\u001b[39m\u001b[33m519864\u001b[39m\u001b[33m'\u001b[39m,\u001b[33m'\u001b[39m\u001b[33m502089\u001b[39m\u001b[33m'\u001b[39m,\u001b[33m'\u001b[39m\u001b[33m17775\u001b[39m\u001b[33m'\u001b[39m],\n\u001b[32m      5\u001b[39m      [\u001b[33m'\u001b[39m\u001b[33m강남구\u001b[39m\u001b[33m'\u001b[39m,\u001b[33m'\u001b[39m\u001b[33m547602\u001b[39m\u001b[33m'\u001b[39m,\u001b[33m'\u001b[39m\u001b[33m542498\u001b[39m\u001b[33m'\u001b[39m,\u001b[33m'\u001b[39m\u001b[33m5104\u001b[39m\u001b[33m'\u001b[39m],\n\u001b[32m      6\u001b[39m      [\u001b[33m'\u001b[39m\u001b[33m송파구\u001b[39m\u001b[33m'\u001b[39m,\u001b[33m'\u001b[39m\u001b[33m686181\u001b[39m\u001b[33m'\u001b[39m,\u001b[33m'\u001b[39m\u001b[33m679247\u001b[39m\u001b[33m'\u001b[39m,\u001b[33m'\u001b[39m\u001b[33m6934\u001b[39m\u001b[33m'\u001b[39m],\n\u001b[32m      7\u001b[39m      [\u001b[33m'\u001b[39m\u001b[33m강동구\u001b[39m\u001b[33m'\u001b[39m,\u001b[33m'\u001b[39m\u001b[33m428547\u001b[39m\u001b[33m'\u001b[39m,\u001b[33m'\u001b[39m\u001b[33m424235\u001b[39m\u001b[33m'\u001b[39m,\u001b[33m'\u001b[39m\u001b[33m4312\u001b[39m\u001b[33m'\u001b[39m]\n\u001b[32m      8\u001b[39m     ]\n\u001b[32m     10\u001b[39m writecsv(\u001b[33m'\u001b[39m\u001b[33mfiles/abc2.csv\u001b[39m\u001b[33m'\u001b[39m,\u001b[33m'\u001b[39m\u001b[33mutf-8\u001b[39m\u001b[33m'\u001b[39m,a)\n",
      "\u001b[31mImportError\u001b[39m: cannot import name 'writecsv' from 'usecsv' (c:\\Class\\python_work\\usecsv.py)"
     ]
    }
   ],
   "source": [
    "from usecsv import writecsv\n",
    "\n",
    "a = [['구','전체','내국인','외국인'],\n",
    "     ['관악구','519864','502089','17775'],\n",
    "     ['강남구','547602','542498','5104'],\n",
    "     ['송파구','686181','679247','6934'],\n",
    "     ['강동구','428547','424235','4312']\n",
    "    ]\n",
    "\n",
    "writecsv('files/abc2.csv','utf-8',a)\n",
    "print('csv 파일 생성')"
   ]
  },
  {
   "cell_type": "code",
   "execution_count": 4,
   "id": "83cab142",
   "metadata": {},
   "outputs": [
    {
     "name": "stdout",
     "output_type": "stream",
     "text": [
      "[['구', '한국인', '외국인', '고령자'], ['합계', '9,740,398', '285,529', '1,468,146'], ['종로구', '151,767', '11,093', '27,394'], ['중구', '126,409', '10,254', '23,025'], ['용산구', '228,830', '16,159', '38,531'], ['성동구', '303,158', '8,132', '43,662'], ['광진구', '352,692', '15,645', '47,347'], ['동대문구', '346,551', '17,228', '58,764'], ['중랑구', '398,812', '4,964', '64,449'], ['성북구', '441,590', '12,524', '70,204'], ['강북구', '314,090', '3,785', '59,808'], ['도봉구', '335,280', '2,314', '58,070'], ['노원구', '535,282', '4,547', '79,968'], ['은평구', '481,663', '4,496', '79,957'], ['서대문구', '310,069', '14,020', '51,708'], ['마포구', '373,629', '11,976', '51,961'], ['양천구', '459,849', '4,082', '60,487'], ['강서구', '593,708', '6,532', '82,937'], ['구로구', '406,748', '33,102', '64,952'], ['금천구', '233,371', '19,497', '37,191'], ['영등포구', '368,402', '34,076', '57,350'], ['동작구', '397,618', '12,869', '61,607'], ['관악구', '502,117', '17,836', '74,518'], ['서초구', '431,027', '4,231', '56,455'], ['강남구', '544,028', '5,015', '70,029'], ['송파구', '677,489', '6,849', '86,062'], ['강동구', '426,219', '4,303', '61,710']]\n",
      "--------------------------------------------------\n",
      "['구', '한국인', '외국인', '고령자']\n",
      "['합계', '9,740,398', '285,529', '1,468,146']\n",
      "['종로구', '151,767', '11,093', '27,394']\n",
      "['중구', '126,409', '10,254', '23,025']\n",
      "['용산구', '228,830', '16,159', '38,531']\n",
      "--------------------------------------------------\n",
      "['종로구', '151,767', '11,093', '27,394']\n"
     ]
    }
   ],
   "source": [
    "import usecsv, re\n",
    "total = usecsv.opencsv(\"files/popSeoul.csv\",\"utf-8\")\n",
    "print(total)\n",
    "print('-' * 50)\n",
    "\n",
    "for i in total[:5]: #0 ~ 4\n",
    "    print(i)\n",
    "print('-' * 50)\n",
    "\n",
    "i = total[2] #종로구가 포함된 리스트\n",
    "print(i)"
   ]
  },
  {
   "cell_type": "code",
   "execution_count": 5,
   "id": "b7e79726",
   "metadata": {},
   "outputs": [
    {
     "name": "stdout",
     "output_type": "stream",
     "text": [
      "['종로구', 151767.0, 11093.0, 27394.0]\n"
     ]
    }
   ],
   "source": [
    "k = []\n",
    "for j in i: #종로구가 포함된 리스트\n",
    "    #re.search 함수는 문자열의 처음뿐 아니라 중간부터라도 패턴과 일치되는 부분이 있는지 찾음\n",
    "    if re.search(r'\\d',j):\n",
    "        #re.sub 정규표현식, 치환 문자대상 문자열\n",
    "        k.append(float(re.sub(',','',j))) #실수로 변환\n",
    "    else:\n",
    "        k.append(j)\n",
    "    \n",
    "print(k)"
   ]
  },
  {
   "cell_type": "code",
   "execution_count": 6,
   "id": "51e68c4e",
   "metadata": {},
   "outputs": [
    {
     "name": "stdout",
     "output_type": "stream",
     "text": [
      "['종로구', 151767.0, 11093.0, 27394.0]\n"
     ]
    }
   ],
   "source": [
    "k = []\n",
    "for j in i: #종로구가 포함된 리스트\n",
    "    #알파벳 또는 한글, 특수문자(!)가 있다면 그대로 k에 저장\n",
    "    if re.search(r'[A-Za-z가-힣!]',j):\n",
    "        k.append(j)\n",
    "    else:\n",
    "        #숫자이면 실수로 변환해서 저장\n",
    "        k.append(float(re.sub(',','',j)))\n",
    "    \n",
    "print(k)"
   ]
  }
 ],
 "metadata": {
  "kernelspec": {
   "display_name": "python_env",
   "language": "python",
   "name": "python3"
  },
  "language_info": {
   "codemirror_mode": {
    "name": "ipython",
    "version": 3
   },
   "file_extension": ".py",
   "mimetype": "text/x-python",
   "name": "python",
   "nbconvert_exporter": "python",
   "pygments_lexer": "ipython3",
   "version": "3.12.11"
  }
 },
 "nbformat": 4,
 "nbformat_minor": 5
}
