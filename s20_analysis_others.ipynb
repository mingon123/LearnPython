{
 "cells": [
  {
   "cell_type": "code",
   "execution_count": 4,
   "id": "2dcc5569",
   "metadata": {},
   "outputs": [
    {
     "name": "stdout",
     "output_type": "stream",
     "text": [
      "<class 'numpy.ndarray'>\n",
      "------------------------------\n",
      "[10 20 30 40]\n",
      "------------------------------\n",
      "int64\n",
      "------------------------------\n",
      "20\n"
     ]
    }
   ],
   "source": [
    "#넘파이(numpy)는 Numberical Python의 약어로서 파이썬에서 데이터 분석과 산술 연산을 하는데 사용되는 가장 기본적인 필수 패키지 중의 하나.\n",
    "#패키지 설치하기\n",
    "#(python_env) C:\\Class\\python_work>conda install numpy -y\n",
    "import numpy as np #넘파이를 불러올 때 보통 np로 줄여서 표현\n",
    "\n",
    "#다차원을 지원하는 배열 객체(ndarray)를 반환\n",
    "#np.array()메서드는 리스트와 같은 배열 형태로부터 ndarray 객체를 생성하는 가장 기본적인 방법\n",
    "data = np.array([10,20,30,40])\n",
    "print(type(data))\n",
    "print('-' * 30)\n",
    "\n",
    "print(data)\n",
    "print('-' * 30)\n",
    "\n",
    "#data.dtype은 객체 data의 데이터 형(type)를 구함.\n",
    "#실행 결과로 얻은 int64는 객체 data 요소의 데이터 형이 64비트 정수형이라는 것을 나타냄\n",
    "print(data.dtype)\n",
    "print('-' * 30)\n",
    "\n",
    "print(data[1])"
   ]
  },
  {
   "cell_type": "code",
   "execution_count": 7,
   "id": "220c30b5",
   "metadata": {},
   "outputs": [
    {
     "name": "stdout",
     "output_type": "stream",
     "text": [
      "[[-0.27391627  0.38175855  0.19495828]\n",
      " [ 0.54277868  0.83412738  0.76398907]]\n",
      "------------------------------\n",
      "(2, 3)\n",
      "------------------------------\n",
      "float64\n"
     ]
    }
   ],
   "source": [
    "#random.randn()메서드를 이용하여 2차원(2행3열)의 실수형 랜덤수를 생성\n",
    "data = np.random.randn(2,3)\n",
    "print(data)\n",
    "print('-' * 30)\n",
    "#ndarray 객체 data가 몇 행 몇 열로 구성되어 있는지를 알려줌\n",
    "print(data.shape)\n",
    "print('-' * 30)\n",
    "\n",
    "#data의 데이터형\n",
    "print(data.dtype)\n"
   ]
  },
  {
   "cell_type": "code",
   "execution_count": null,
   "id": "e683242d",
   "metadata": {},
   "outputs": [
    {
     "name": "stdout",
     "output_type": "stream",
     "text": [
      "[0. 0. 0. 0. 0. 0. 0. 0. 0. 0.]\n",
      "float64\n"
     ]
    }
   ],
   "source": [
    "#ndarray 객체 요소 값을 모두 0으로 초기화하여 ndarray 객체를 생성\n",
    "data1 = np.zeros(10)\n",
    "print(data1)\n",
    "print(data1.dtype) #64비트 실수"
   ]
  },
  {
   "cell_type": "code",
   "execution_count": 10,
   "id": "48361f8b",
   "metadata": {},
   "outputs": [
    {
     "name": "stdout",
     "output_type": "stream",
     "text": [
      "[[0. 0. 0.]\n",
      " [0. 0. 0.]]\n",
      "float64\n",
      "--------------------------------------------------\n",
      "[[0 0 0]\n",
      " [0 0 0]]\n"
     ]
    }
   ],
   "source": [
    "#2행 3열의 0.0으로 최기화된 64비트 실수형 ndarray 객체를 생성\n",
    "data2 = np.zeros((2,3))\n",
    "print(data2)\n",
    "print(data2.dtype)\n",
    "print('-' * 50)\n",
    "\n",
    "#dtype=np.int64는 0으로 초기화된 64비트 정수형의 ndarray 개체를 생성\n",
    "data3 = np.zeros((2,3),dtype=np.int64)\n",
    "print(data3)"
   ]
  },
  {
   "cell_type": "code",
   "execution_count": 11,
   "id": "ee352f09",
   "metadata": {},
   "outputs": [
    {
     "name": "stdout",
     "output_type": "stream",
     "text": [
      "[1. 1. 1. 1. 1. 1. 1. 1.]\n"
     ]
    }
   ],
   "source": [
    "#8개의 요소의 값이 모두 1인 1차원 실수형 ndarray 객체\n",
    "data1 = np.ones(8)\n",
    "print(data1)"
   ]
  },
  {
   "cell_type": "code",
   "execution_count": 12,
   "id": "f8ede090",
   "metadata": {},
   "outputs": [
    {
     "name": "stdout",
     "output_type": "stream",
     "text": [
      "[ 10  20  30  40  50  60  70  80  90 100 110 120]\n",
      "30\n",
      "[60 70 80]\n"
     ]
    }
   ],
   "source": [
    "#Numpy의 arange() 메서드는 파이썬의 내장 함수인 range()의 사용법과 동일함.\n",
    "#np.arange(10,121,10)은 10에서 120까지 (10씩 증가)의 범위\n",
    "data = np.arange(10,121,10)\n",
    "print(data)\n",
    "print(data[2])\n",
    "print(data[5:8]) #5~7"
   ]
  },
  {
   "cell_type": "code",
   "execution_count": 13,
   "id": "25e1ccbd",
   "metadata": {},
   "outputs": [
    {
     "name": "stdout",
     "output_type": "stream",
     "text": [
      "0     5\n",
      "1    -4\n",
      "2     7\n",
      "3     0\n",
      "4    12\n",
      "dtype: int64\n"
     ]
    }
   ],
   "source": [
    "#판다스는 데이터 분석을 하는 데 가장 많이 사용되는 패키지.\n",
    "#for문을 이용하지 않고 배열의 산술 연산을 할 수 있으며 Numpy의 스타일과 유사한 배열 관련 함수 제공\n",
    "#Numpy가 배열 연산에 특화되어 있다면, Pandas는 열과 행으로 구성된 테이블 형태의 데이터를 다루는 데 초점\n",
    "#패키지 설치하기\n",
    "#(python_env) C:\\Class\\python_work>conda install pandas -y\n",
    "import pandas as pd\n",
    "\n",
    "#Series 객체의 기본형(type)은 64비트 정수형\n",
    "#Series 객체는 1차원 배열의 인덱스와 값으로 구성\n",
    "obj = pd.Series([5,-4,7,0,12])\n",
    "print(obj)"
   ]
  },
  {
   "cell_type": "code",
   "execution_count": 16,
   "id": "a0706f2b",
   "metadata": {},
   "outputs": [
    {
     "name": "stdout",
     "output_type": "stream",
     "text": [
      "[  8 -20  -3  13   2]\n",
      "------------------------------\n",
      "RangeIndex(start=0, stop=5, step=1)\n",
      "------------------------------\n",
      "-3\n"
     ]
    }
   ],
   "source": [
    "obj = pd.Series([8,-20,-3,13,2])\n",
    "#obj 객체의 값을 얻음\n",
    "print(obj.values)\n",
    "print('-' * 30)\n",
    "#obj 객체의 인덱스를 얻음\n",
    "print(obj.index)\n",
    "print('-' * 30)\n",
    "#인덱스 2에 해당하는 요소 값\n",
    "print(obj[2])"
   ]
  },
  {
   "cell_type": "code",
   "execution_count": 17,
   "id": "e71bc5ad",
   "metadata": {},
   "outputs": [
    {
     "name": "stdout",
     "output_type": "stream",
     "text": [
      "서울 : 98790명\n",
      "부산 : 34567명\n",
      "대구 : 23456명\n"
     ]
    }
   ],
   "source": [
    "pop = pd.Series([98790,34567,23456],index=[\"서울\",\"부산\",\"대구\"])\n",
    "#Series의 객체 pop의 인덱스와 값을 얻는 데 사용\n",
    "#items()메서드는 Series 객체에 있는 요소를 튜플 형태,\n",
    "#item()메서드는 Series 객체에 있는 요소를 튜플 형태, 즉 (indedx,value)로 반환\n",
    "for i,v in pop.items():\n",
    "    print(\"%s : %d명\" % (i,v))"
   ]
  },
  {
   "cell_type": "code",
   "execution_count": null,
   "id": "2e3b208b",
   "metadata": {},
   "outputs": [
    {
     "name": "stdout",
     "output_type": "stream",
     "text": [
      "    이름     아이디  비밀번호\n",
      "0  홍지수  jshond  1234\n",
      "1  안지영   jyahn  1234\n",
      "2  김성수   sukim  1234\n",
      "3  최예린  yrchoi  1234\n",
      "--------------------------------------------------\n",
      "     이름           전화번호  나이   주소\n",
      "01  홍지수  010-1234-5678  20  NaN\n",
      "02  안지영  010-5678-1234  23  NaN\n"
     ]
    }
   ],
   "source": [
    "import pandas as pd\n",
    "data = {\"이름\":[\"홍지수\",\"안지영\",\"김성수\",\"최예린\"],\n",
    "        \"아이디\":[\"jshond\",\"jyahn\",\"sukim\",\"yrchoi\"],\n",
    "        \"비밀번호\":[\"1234\",\"1234\",\"1234\",\"1234\"]}\n",
    "\n",
    "#DataFrame 클래스는 테이블 형태로 된 2차원 자료 구조\n",
    "frame = pd.DataFrame(data)\n",
    "print(frame)\n",
    "print('-' * 50)\n",
    "\n",
    "member = {\"이름\":[\"홍지수\",\"안지영\"],\n",
    "          \"나이\":[20,23],\n",
    "          \"전화번호\":[\"010-1234-5678\",\"010-5678-1234\"]}\n",
    "\n",
    "#DataFrame에 열 인덱스를 설정하는데, columns를 사용하고 형 인덱스를 설정하는데 index를 사용\n",
    "frame = pd.DataFrame(member,columns=[\"이름\",\"전화번호\",\"나이\",\"주소\"],index=[\"01\",\"02\"]) #주소는 없어서 NaN으로 출력\n",
    "print(frame)"
   ]
  }
 ],
 "metadata": {
  "kernelspec": {
   "display_name": "python_env",
   "language": "python",
   "name": "python3"
  },
  "language_info": {
   "codemirror_mode": {
    "name": "ipython",
    "version": 3
   },
   "file_extension": ".py",
   "mimetype": "text/x-python",
   "name": "python",
   "nbconvert_exporter": "python",
   "pygments_lexer": "ipython3",
   "version": "3.12.11"
  }
 },
 "nbformat": 4,
 "nbformat_minor": 5
}
