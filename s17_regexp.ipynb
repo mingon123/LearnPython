{
 "cells": [
  {
   "cell_type": "code",
   "execution_count": 4,
   "id": "ea498f41",
   "metadata": {},
   "outputs": [
    {
     "name": "stdout",
     "output_type": "stream",
     "text": [
      "<re.Match object; span=(0, 4), match='life'>\n",
      "life\n",
      "(0, 4)\n"
     ]
    }
   ],
   "source": [
    "#정규표현식 모듈 re 호출\n",
    "import re\n",
    "\n",
    "#match() : 문자열의 처음부터 정규식과 매치되는지 조사\n",
    "pattern = r'life' #패턴을 객체 저장함. 패턴 앞에는 r을 붙여야함\n",
    "script = 'life' #패턴과 같은 스크립트를 다른 객체에 저장\n",
    "\n",
    "#script에서 pattern을 찾음. 처음부터 매치 안 되면 None 반환\n",
    "p = re.match(pattern,script)\n",
    "print(p)\n",
    "\n",
    "#group()메서드를 사용해 매치된 내용을 반환,매칭되지 않으면 오류 발생\n",
    "p2 = re.match(pattern,script).group()\n",
    "print(p2)\n",
    "\n",
    "#일치하는 문자열(시작,끝) 위치를 포함하는 튜플을 반환\n",
    "p2 = re.match(pattern,script).span()\n",
    "print(p2)"
   ]
  }
 ],
 "metadata": {
  "kernelspec": {
   "display_name": "python_env",
   "language": "python",
   "name": "python3"
  },
  "language_info": {
   "codemirror_mode": {
    "name": "ipython",
    "version": 3
   },
   "file_extension": ".py",
   "mimetype": "text/x-python",
   "name": "python",
   "nbconvert_exporter": "python",
   "pygments_lexer": "ipython3",
   "version": "3.12.11"
  }
 },
 "nbformat": 4,
 "nbformat_minor": 5
}
