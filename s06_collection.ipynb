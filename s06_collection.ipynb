{
 "cells": [
  {
   "cell_type": "code",
   "execution_count": 5,
   "id": "4b88a224",
   "metadata": {},
   "outputs": [
    {
     "name": "stdout",
     "output_type": "stream",
     "text": [
      "빨강\n",
      "남색\n",
      "['노랑', '초록', '파랑', '남색']\n",
      "파랑\n",
      "['초록', '파랑', '남색']\n"
     ]
    }
   ],
   "source": [
    "#리스트\n",
    "colors = ['빨강','주황','노랑','초록','파랑','남색','보라']\n",
    "#           0      1     2      3     4      5      6\n",
    "print(colors[0])\n",
    "print(colors[5])\n",
    "print(colors[2:6]) #인덱스 2~5(6제외)\n",
    "print(colors[-3]) #뒤에서 3번째 요소\n",
    "print(colors[-4:-1])#뒤에서 4번째부터 뒤에서 2번째(-1제외)"
   ]
  },
  {
   "cell_type": "code",
   "execution_count": 7,
   "id": "a78c7350",
   "metadata": {},
   "outputs": [
    {
     "name": "stdout",
     "output_type": "stream",
     "text": [
      "['red', 'green', 'gold']\n",
      "<class 'list'>\n"
     ]
    }
   ],
   "source": [
    "colors2 = ['red','green','gold']\n",
    "print(colors2)\n",
    "print(type(colors2))"
   ]
  },
  {
   "cell_type": "code",
   "execution_count": 8,
   "id": "8ea94d32",
   "metadata": {},
   "outputs": [
    {
     "name": "stdout",
     "output_type": "stream",
     "text": [
      "나는 빨강을 좋아한다.\n",
      "나는 주황을 좋아한다.\n",
      "나는 노랑을 좋아한다.\n",
      "나는 초록을 좋아한다.\n",
      "나는 파랑을 좋아한다.\n",
      "나는 남색을 좋아한다.\n",
      "나는 보라을 좋아한다.\n"
     ]
    }
   ],
   "source": [
    "#반복문을 이용한 출력\n",
    "for color in colors:\n",
    "    print(\"나는 %s을 좋아한다.\" % color)"
   ]
  },
  {
   "cell_type": "code",
   "execution_count": 9,
   "id": "cdc6299b",
   "metadata": {},
   "outputs": [
    {
     "name": "stdout",
     "output_type": "stream",
     "text": [
      "나는 빨강을 좋아한다.\n",
      "나는 주황을 좋아한다.\n",
      "나는 노랑을 좋아한다.\n",
      "나는 초록을 좋아한다.\n",
      "나는 파랑을 좋아한다.\n",
      "나는 남색을 좋아한다.\n",
      "나는 보라을 좋아한다.\n"
     ]
    }
   ],
   "source": [
    "n = len(colors) #len()함수 : 리스트 길이\n",
    "for i in range(0,n): #i의 값 : 0~6\n",
    "    print(\"나는 %s을 좋아한다.\" % colors[i])"
   ]
  },
  {
   "cell_type": "code",
   "execution_count": 10,
   "id": "5cb36ee5",
   "metadata": {},
   "outputs": [
    {
     "name": "stdout",
     "output_type": "stream",
     "text": [
      "코끼리\n",
      "호랑이\n",
      "사슴\n",
      "펭귄\n",
      "여우\n"
     ]
    }
   ],
   "source": [
    "#while문에서 리스트 사용\n",
    "animals = [\"코끼리\",\"호랑이\",\"사슴\",\"펭귄\",\"여우\"]\n",
    "i=0\n",
    "while i < len(animals):\n",
    "    print(animals[i])\n",
    "    i += 1"
   ]
  },
  {
   "cell_type": "code",
   "execution_count": 16,
   "id": "92b659c3",
   "metadata": {},
   "outputs": [
    {
     "name": "stdout",
     "output_type": "stream",
     "text": [
      "['red', 'green', 'gold']\n"
     ]
    }
   ],
   "source": [
    "colors2 = ['red','green','gold']\n",
    "print(colors2)"
   ]
  },
  {
   "cell_type": "code",
   "execution_count": 17,
   "id": "4f49e86f",
   "metadata": {},
   "outputs": [
    {
     "name": "stdout",
     "output_type": "stream",
     "text": [
      "['red', 'orange', 'gold']\n"
     ]
    }
   ],
   "source": [
    "colors2[1] = 'orange' #요소 값의 수정\n",
    "print(colors2)"
   ]
  },
  {
   "cell_type": "code",
   "execution_count": null,
   "id": "5b89a27b",
   "metadata": {},
   "outputs": [
    {
     "ename": "IndexError",
     "evalue": "list assignment index out of range",
     "output_type": "error",
     "traceback": [
      "\u001b[31m---------------------------------------------------------------------------\u001b[39m",
      "\u001b[31mIndexError\u001b[39m                                Traceback (most recent call last)",
      "\u001b[36mCell\u001b[39m\u001b[36m \u001b[39m\u001b[32mIn[18]\u001b[39m\u001b[32m, line 1\u001b[39m\n\u001b[32m----> \u001b[39m\u001b[32m1\u001b[39m \u001b[43mcolors2\u001b[49m\u001b[43m[\u001b[49m\u001b[32;43m3\u001b[39;49m\u001b[43m]\u001b[49m = \u001b[33m'\u001b[39m\u001b[33mskyblue\u001b[39m\u001b[33m'\u001b[39m\n",
      "\u001b[31mIndexError\u001b[39m: list assignment index out of range"
     ]
    }
   ],
   "source": [
    "colors2[3] = 'skyblue' #없는 인덱스를 호출하면 오류 발생"
   ]
  },
  {
   "cell_type": "code",
   "execution_count": 19,
   "id": "5c52d5ce",
   "metadata": {},
   "outputs": [
    {
     "name": "stdout",
     "output_type": "stream",
     "text": [
      "['red', 'orange', 'gold', 'blue']\n"
     ]
    }
   ],
   "source": [
    "# 기존의 리스트에 값을 추가\n",
    "colors2.append('blue')\n",
    "print(colors2)"
   ]
  }
 ],
 "metadata": {
  "kernelspec": {
   "display_name": "python_env",
   "language": "python",
   "name": "python3"
  },
  "language_info": {
   "codemirror_mode": {
    "name": "ipython",
    "version": 3
   },
   "file_extension": ".py",
   "mimetype": "text/x-python",
   "name": "python",
   "nbconvert_exporter": "python",
   "pygments_lexer": "ipython3",
   "version": "3.12.11"
  }
 },
 "nbformat": 4,
 "nbformat_minor": 5
}
