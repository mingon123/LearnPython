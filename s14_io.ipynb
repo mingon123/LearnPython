{
 "cells": [
  {
   "cell_type": "code",
   "execution_count": 1,
   "id": "b51169ea",
   "metadata": {},
   "outputs": [
    {
     "name": "stdout",
     "output_type": "stream",
     "text": [
      "파일 쓰기 완료!\n"
     ]
    }
   ],
   "source": [
    "#텍스트 파일에 데이터 저장하기\n",
    "#기존에 파일이 존재하고 데이터가 있으면 전부 지우고 다시 처음부터 기재함\n",
    "#기존에 파일이 없으면 새로 생성해서 내용을 기재\n",
    "#파일 객체 = open(파일명,파일모드,인코딩)\n",
    "#파일 모드      의미\n",
    "#   r          읽기 모드, 파일을 읽을 때 사용\n",
    "#   w          쓰기 모드, 파일에 데이터를 저장할 때 사용\n",
    "#              *파일이 존재하지 않으면 새로운 파일을 생성하고, 해당 파일이 존재하면 기존 파일에 덮어씀\n",
    "#   a          추가 모드, 기존에 파일에 데이터를 추가할 때 사용\n",
    "\n",
    "f = open(\"files/new_file.txt\",\"w\",encoding=\"utf-8\")\n",
    "names = [\"홍길동\",\"박문수\",\"김유신\",\"이순신\"]\n",
    "\n",
    "for name in names:\n",
    "    f.write(name + \"\\n\")\n",
    "\n",
    "print(\"파일 쓰기 완료!\")\n",
    "f.close()"
   ]
  }
 ],
 "metadata": {
  "kernelspec": {
   "display_name": "python_env",
   "language": "python",
   "name": "python3"
  },
  "language_info": {
   "codemirror_mode": {
    "name": "ipython",
    "version": 3
   },
   "file_extension": ".py",
   "mimetype": "text/x-python",
   "name": "python",
   "nbconvert_exporter": "python",
   "pygments_lexer": "ipython3",
   "version": "3.12.11"
  }
 },
 "nbformat": 4,
 "nbformat_minor": 5
}
