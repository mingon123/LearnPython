{
 "cells": [
  {
   "cell_type": "code",
   "execution_count": null,
   "id": "9b0a55e9",
   "metadata": {},
   "outputs": [
    {
     "name": "stdout",
     "output_type": "stream",
     "text": [
      "<__main__.Service object at 0x000001ADD9BD1B80>\n",
      "--------------------------------------------------\n",
      "홍길동\n",
      "홍길동\n",
      "--------------------------------------------------\n",
      "박문수\n",
      "홍길동\n",
      "12\n",
      "--------------------------------------------------\n",
      "홍길동\n",
      "홍길동\n"
     ]
    },
    {
     "ename": "AttributeError",
     "evalue": "'Service' object has no attribute 'age'",
     "output_type": "error",
     "traceback": [
      "\u001b[31m---------------------------------------------------------------------------\u001b[39m",
      "\u001b[31mAttributeError\u001b[39m                            Traceback (most recent call last)",
      "\u001b[36mCell\u001b[39m\u001b[36m \u001b[39m\u001b[32mIn[9]\u001b[39m\u001b[32m, line 26\u001b[39m\n\u001b[32m     24\u001b[39m \u001b[38;5;28mprint\u001b[39m(pey2.name)\n\u001b[32m     25\u001b[39m \u001b[38;5;28mprint\u001b[39m(Service.name)\n\u001b[32m---> \u001b[39m\u001b[32m26\u001b[39m \u001b[38;5;28mprint\u001b[39m(\u001b[43mpey2\u001b[49m\u001b[43m.\u001b[49m\u001b[43mage\u001b[49m)\n",
      "\u001b[31mAttributeError\u001b[39m: 'Service' object has no attribute 'age'"
     ]
    }
   ],
   "source": [
    "class Service:\n",
    "    name = \"홍길동\" #클래스 변수(java의 static 변수와 동일)\n",
    "\n",
    "#인스턴스 생성\n",
    "pey = Service()\n",
    "print(pey)\n",
    "print('-' * 50)\n",
    "\n",
    "#클래스 변수 호출\n",
    "print(pey.name)\n",
    "print(Service.name) #pey.name으로 호출해도 문제는 없지만 Service.name으로 호출하는게 정석\n",
    "print('-' * 50)\n",
    "\n",
    "pey.name = \"박문수\"\n",
    "print(pey.name) #인스턴스 변수 호출\n",
    "print(Service.name) #클래스 변수 호출\n",
    "\n",
    "#인스턴스 변수 추가\n",
    "pey.age = 12\n",
    "print(pey.age)\n",
    "print('-' * 50)\n",
    "\n",
    "pey2 = Service()\n",
    "print(pey2.name)\n",
    "print(Service.name)\n",
    "print(pey2.age) #인스턴스에 age가 존재하지 않기 때문에 오류"
   ]
  },
  {
   "cell_type": "code",
   "execution_count": null,
   "id": "90ddab0e",
   "metadata": {},
   "outputs": [
    {
     "name": "stdout",
     "output_type": "stream",
     "text": [
      "My Name is Default Name\n",
      "My Name is 홍길순\n"
     ]
    }
   ],
   "source": [
    "#클래스에 함수 정의\n",
    "class Person:\n",
    "    name = \"Default Name\" #클래스 변수\n",
    "    def printName(self): #인스턴스 변수\n",
    "        \"\"\"\n",
    "        self.변수명을 사용할 때 변수를 찾는 순서 (self == this)\n",
    "        1.해당 인스턴스(self)의 인스턴스 변수\n",
    "        2.인스턴스 변수가 없으면, 해당 인스턴스의 클래스 변수\n",
    "        3.클래스 변수도 없으면, 상속받은 부모 클래스의 변수\n",
    "        \"\"\"\n",
    "        print(\"My Name is {0}\".format(self.name))\n",
    "\n",
    "#인스턴스 생성\n",
    "p = Person()\n",
    "\n",
    "#함수 호출\n",
    "p.printName() #인스턴스 변수가 없어서 클래스 변수 호출\n",
    "\n",
    "#인스턴스 변수 생성\n",
    "p.name = \"홍길순\"\n",
    "p.printName() #인스턴스 변수 호출"
   ]
  },
  {
   "cell_type": "code",
   "execution_count": 15,
   "id": "8f1e0249",
   "metadata": {},
   "outputs": [
    {
     "name": "stdout",
     "output_type": "stream",
     "text": [
      "1 + 2 = 3입니다.\n",
      "--------------------------------------------------\n",
      "홍길동이 밥을 먹습니다.\n"
     ]
    }
   ],
   "source": [
    "class Service:\n",
    "    def sum(self,a,b):\n",
    "        result = a + b\n",
    "        print(\"%s + %s = %s입니다.\" % (a,b,result))\n",
    "\n",
    "pey = Service()\n",
    "pey.sum(1,2)\n",
    "print(\"-\" * 50)\n",
    "\n",
    "class Lunch:\n",
    "    name = \"홍길동\"\n",
    "    def eat(self,food):\n",
    "        print(\"%s이 %s을 먹습니다.\" % (self.name,food))\n",
    "\n",
    "a= Lunch()\n",
    "a.eat(\"밥\")"
   ]
  },
  {
   "cell_type": "code",
   "execution_count": 18,
   "id": "185cbe4e",
   "metadata": {},
   "outputs": [
    {
     "name": "stdout",
     "output_type": "stream",
     "text": [
      "Class is created! Value =  10\n",
      "Class is deleted!\n",
      "--------------------------------------------------\n",
      "Class is created! Value =  100\n",
      "Class is deleted!\n",
      "play 메서드\n",
      "play 메서드\n"
     ]
    }
   ],
   "source": [
    "class MyClass:\n",
    "    def __init__(self,value): #생성자 함수\n",
    "        self.Value = value\n",
    "        print(\"Class is created! Value = \",value)\n",
    "\n",
    "    def play(self):\n",
    "        print('play 메서드')\n",
    "\n",
    "    def __del__(self): #소멸자 함수\n",
    "        print(\"Class is deleted!\")\n",
    "    \n",
    "def foo():\n",
    "    d = MyClass(10)\n",
    "\n",
    "foo()\n",
    "print('-'  * 50)\n",
    "\n",
    "a = MyClass(100)\n",
    "a.play()\n",
    "a.play()\n"
   ]
  },
  {
   "cell_type": "code",
   "execution_count": 21,
   "id": "c8f87f22",
   "metadata": {},
   "outputs": [
    {
     "name": "stdout",
     "output_type": "stream",
     "text": [
      "29살 김상형 입니다.\n",
      "--------------------------------------------------\n",
      "34살 이승우 입니다.\n",
      "학번 : 930011\n",
      "오늘은 화요일\n"
     ]
    }
   ],
   "source": [
    "#상속 : 상속은 기존 클래스를 확장하여 멤버를 추가하거나 동작을 변경하는 방식\n",
    "\n",
    "class Human:\n",
    "    def __init__(self,age,name):\n",
    "        self.age = age\n",
    "        self.name = name\n",
    "    def intro(self):\n",
    "        print(f\"{self.age}살 {self.name} 입니다.\")\n",
    "\n",
    "class Student(Human):\n",
    "    def __init__(self,age,name,stunum):\n",
    "        super().__init__(age,name)\n",
    "        self.stunum = stunum\n",
    "    #메서드(함수) 재정의(Override)\n",
    "    def intro(self):\n",
    "        super().intro()\n",
    "        print(f\"학번 : {self.stunum}\")\n",
    "    def study(self):\n",
    "        print(\"오늘은 화요일\")\n",
    "\n",
    "#인스턴스 생성\n",
    "kim = Human(29,\"김상형\")\n",
    "kim.intro()\n",
    "print('-' * 50)\n",
    "\n",
    "lee = Student(34,\"이승우\",930011)\n",
    "lee.intro()\n",
    "lee.study()\n"
   ]
  },
  {
   "cell_type": "code",
   "execution_count": 5,
   "id": "83fc3102",
   "metadata": {},
   "outputs": [
    {
     "name": "stdout",
     "output_type": "stream",
     "text": [
      "8\n",
      "8\n",
      "8\n"
     ]
    }
   ],
   "source": [
    "#파이썬은 근본적으로 정보은폐를 못함(접근지정자가 없음)\n",
    "#변수에 데이터를 못넣는게 아니라 메서드를 통해 접근하면 원치않은 데이터는 필터링할 수 있는데 변수는 필터링을 못함.\n",
    "#자바는 정보 은폐가 되지만 파이썬은 불가능\n",
    "\n",
    "#파이썬은 정보 은폐를 지원하지 않음.\n",
    "#파이썬은 클래스의 멤버는 모두 공개되어 있으며 누구나 엑세스할 수 있다.\n",
    "class Date:\n",
    "    def __init__(self,month):\n",
    "        #실제 정보를 저장하는 멤버는 inner_month로 정의\n",
    "        self.inner_month = month\n",
    "    def getmonth(self):\n",
    "        return self.inner_month\n",
    "    def setmonth(self,month):\n",
    "        if 1<=month<=12:\n",
    "            self.inner_month = month\n",
    "    #month 프로퍼티를 통해 내부 멤버를 엑세스하는 게터,세터와 연결\n",
    "    month = property(getmonth,setmonth)\n",
    "\n",
    "#인스턴스 생성\n",
    "today = Date(8)\n",
    "print(today.month) #getmonth 실행\n",
    "\n",
    "today.month = 15 #setmonth 실행 #1~12만 인정되기 때문에 그 이외의 값을 넣으면 인정되지 않음\n",
    "print(today.month)\n",
    "print(today.inner_month) #정보 은폐가 되지 않음"
   ]
  },
  {
   "cell_type": "code",
   "execution_count": null,
   "id": "13d401ce",
   "metadata": {},
   "outputs": [
    {
     "name": "stdout",
     "output_type": "stream",
     "text": [
      "1\n",
      "1\n",
      "--------------------------------------------------\n",
      "1\n",
      "2\n",
      "--------------------------------------------------\n",
      "1\n",
      "3\n"
     ]
    }
   ],
   "source": [
    "class Car:\n",
    "    count = 0 #클래스 변수\n",
    "    cnt = 0 #클래스 변수\n",
    "    def __init__(self,name):\n",
    "        self.name = name\n",
    "        Car.count += 1 #클래스 변수 호출\n",
    "        self.cnt += 1 #인스턴스 변수 호출\n",
    "    \n",
    "    #클래스 메서드(함수)는 특정 객체에 대한 작업을 처리하는 것이 아니라 클래스 전체 공유\n",
    "    @classmethod\n",
    "    def outcount(cls):\n",
    "        print(cls.count) #클래스 변수 호출\n",
    "    def printcnt(self):\n",
    "        print(self.cnt) #인스턴스 변수 호출\n",
    "\n",
    "#인스턴스 생성\n",
    "pride = Car(\"프라이드\")\n",
    "pride.printcnt() #인스턴스 함수 호출\n",
    "Car.outcount() #클래스 함수 호출\n",
    "print('-' * 50)\n",
    "\n",
    "korando = Car(\"코란도\")\n",
    "korando.printcnt()\n",
    "Car.outcount() #인스턴스변수는 계속 새로 생성되어 1로 초기화되지만 클래스변수는 공통(객체들이 클래스변수 공유)으로 사용하기 떄문에 중첩됨\n",
    "print('-' * 50)\n",
    "\n",
    "sonata = Car(\"소나타\")\n",
    "sonata.printcnt()\n",
    "Car.outcount()"
   ]
  },
  {
   "cell_type": "code",
   "execution_count": 10,
   "id": "09d7b921",
   "metadata": {},
   "outputs": [
    {
     "name": "stdout",
     "output_type": "stream",
     "text": [
      "오늘도 안전 운행!!\n",
      "0\n"
     ]
    }
   ],
   "source": [
    "#클래스 메서드와 정적 메서드\n",
    "#클래스 메서드(@classmethod)\n",
    "#클래스 메서드는 @classmethod 데코레이터를 사용하여 정의\n",
    "#첫 번째 인자로 클래스 자신을 전달 받음\n",
    "#1)메서드 정의 시 첫 번째 인자로 cls를 명시\n",
    "#2)cls를 통해 클래스 변수에 접근\n",
    "\n",
    "#정적 메서드(@staticmethod)\n",
    "#정적 메서드는 @staticmethod 데코레이터를 사용하여 정의,\n",
    "#어떤 특별한 첫 번째 인자도 받지 않음\n",
    "#클래스 변수,인스턴스 변수에 접근할 수 없음. 명시적으로 클래스명.클래스변수와 같이 지정\n",
    "\n",
    "class Car:\n",
    "    @staticmethod\n",
    "    def hello():\n",
    "        print(\"오늘도 안전 운행!!\")\n",
    "    count = 0\n",
    "    def __init__(self,name):\n",
    "        self.name = name\n",
    "        Car.count += 1\n",
    "\n",
    "    @classmethod\n",
    "    def outcount(cls):\n",
    "        print(cls.count)\n",
    "\n",
    "Car.hello()\n",
    "Car.outcount()"
   ]
  },
  {
   "cell_type": "code",
   "execution_count": 14,
   "id": "1af4c95c",
   "metadata": {},
   "outputs": [
    {
     "name": "stdout",
     "output_type": "stream",
     "text": [
      "p3 : (4,6)\n",
      "p3 : (4,6)\n"
     ]
    }
   ],
   "source": [
    "#파이썬 연산자 오버로딩(Operator Overloading)\n",
    "#클래스에 정의된 객체들이 내장 연산자(+,-,*,/,<,>,== 등)들을 사용할 때,\n",
    "#해당 연산자들이 어떻게 동작할지 재정의하는 기능\n",
    "#연산자 및 대응하는 특수 메서드\n",
    "#연산자     특수 메서드              설명\n",
    "#  +        __add__(self,other)     덧셈\n",
    "#  -        __sub__(self,other)     뺄셈\n",
    "#  *        __mul__(self,other)     곱셈\n",
    "#  /        __truediv__(self,other) 나눗셈\n",
    "\n",
    "class Point:\n",
    "    def __init__(self,x,y):\n",
    "        self.x = x\n",
    "        self.y = y\n",
    "    def add_points(self,other_point):\n",
    "        return Point(self.x + other_point.x,self.y + other_point.y)\n",
    "    \n",
    "    def __add__(self,other):\n",
    "        return Point(self.x + other.x, self.y + other.y)\n",
    "\n",
    "p1 = Point(1,2)\n",
    "p2 = Point(3,4)\n",
    "#두 점을 더하기 위해 메서드 호출\n",
    "p3 = p1.add_points(p2)\n",
    "print(f\"p3 : ({p3.x},{p3.y})\")\n",
    "\n",
    "p3 = p1 + p2\n",
    "print(f\"p3 : ({p3.x},{p3.y})\")"
   ]
  }
 ],
 "metadata": {
  "kernelspec": {
   "display_name": "python_env",
   "language": "python",
   "name": "python3"
  },
  "language_info": {
   "codemirror_mode": {
    "name": "ipython",
    "version": 3
   },
   "file_extension": ".py",
   "mimetype": "text/x-python",
   "name": "python",
   "nbconvert_exporter": "python",
   "pygments_lexer": "ipython3",
   "version": "3.12.11"
  }
 },
 "nbformat": 4,
 "nbformat_minor": 5
}
