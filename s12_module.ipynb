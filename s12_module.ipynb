{
 "cells": [
  {
   "cell_type": "code",
   "execution_count": null,
   "id": "baadee53",
   "metadata": {},
   "outputs": [
    {
     "name": "stdout",
     "output_type": "stream",
     "text": [
      "홍길동님 안녕하세요.\n",
      "박문수님 반갑습니다.\n",
      "<hello.Service object at 0x000001E050FF81D0>\n"
     ]
    }
   ],
   "source": [
    "#모듈\n",
    "#파이썬 모듈에서는 프로그램에서 공통적으로 사용되는 함수들을 모아서 별도의 파일에 저장하는 기능을 제공\n",
    "\n",
    "#모듈은 여러 변수와 함수를 가지고 있는 집합체로, 크게 표준 모듈과 외부 모듈로 나눔\n",
    "#파이썬에 기본적으로 내장되어 있는 모듈을 '표준 모듈'이라고 부르고, 다른 사람들이 만들어서 공개한 모듈을 '외부 모듈'이라고 부른다.\n",
    "\n",
    "#모듈을 생성하고 불러오기\n",
    "import hello\n",
    "\n",
    "hello.greet1(\"홍길동\")\n",
    "hello.greet2(\"박문수\")\n",
    "\n",
    "#클래스도 모듈화 가능\n",
    "pey = hello.Service()\n",
    "print(pey)\n",
    "\n",
    "#쓸 수 있는 모듈이 많은게 장점이자 단점. "
   ]
  },
  {
   "cell_type": "code",
   "execution_count": 2,
   "id": "71589857",
   "metadata": {},
   "outputs": [
    {
     "name": "stdout",
     "output_type": "stream",
     "text": [
      "ceil(12.3): 13\n",
      "ceil(-25.8): -25\n"
     ]
    }
   ],
   "source": [
    "import math\n",
    "\n",
    "#올림\n",
    "print(\"ceil(12.3):\",math.ceil(12.3))\n",
    "print(\"ceil(-25.8):\",math.ceil(-25.8))"
   ]
  },
  {
   "cell_type": "code",
   "execution_count": 3,
   "id": "ddee241a",
   "metadata": {},
   "outputs": [
    {
     "name": "stdout",
     "output_type": "stream",
     "text": [
      "floor(12.7): 12\n",
      "floor(-25.2): -26\n"
     ]
    }
   ],
   "source": [
    "#버림(절삭)\n",
    "print(\"floor(12.7):\",math.floor(12.7))\n",
    "print(\"floor(-25.2):\",math.floor(-25.2))"
   ]
  },
  {
   "cell_type": "code",
   "execution_count": 7,
   "id": "14601b16",
   "metadata": {},
   "outputs": [
    {
     "name": "stdout",
     "output_type": "stream",
     "text": [
      "round(12.756): 13\n",
      "round(12.756): 12.76\n",
      "round(-25.7): -26\n"
     ]
    }
   ],
   "source": [
    "#round함수는 math 모듈에 있는 함수가 아닌 파이썬 자체의 내장 함수\n",
    "print(\"round(12.756):\",round(12.756))\n",
    "print(\"round(12.756):\",round(12.756,2)) #소숫점2자리까지\n",
    "print(\"round(-25.7):\",round(-25.7))\n"
   ]
  },
  {
   "cell_type": "code",
   "execution_count": 9,
   "id": "d8384a02",
   "metadata": {},
   "outputs": [
    {
     "name": "stdout",
     "output_type": "stream",
     "text": [
      "15.0\n"
     ]
    }
   ],
   "source": [
    "#합계 데이터를 실수형으로 반환\n",
    "print(math.fsum([1,2,3,4,5]))"
   ]
  },
  {
   "cell_type": "code",
   "execution_count": 3,
   "id": "ef6db2b6",
   "metadata": {},
   "outputs": [
    {
     "name": "stdout",
     "output_type": "stream",
     "text": [
      "1751846133.7510614\n"
     ]
    }
   ],
   "source": [
    "import time\n",
    "\n",
    "seconds = time.time() #타임스탬프 시간\n",
    "print(seconds)"
   ]
  },
  {
   "cell_type": "code",
   "execution_count": 2,
   "id": "4f76aeec",
   "metadata": {},
   "outputs": [
    {
     "name": "stdout",
     "output_type": "stream",
     "text": [
      "time.struct_time(tm_year=2025, tm_mon=7, tm_mday=6, tm_hour=23, tm_min=55, tm_sec=20, tm_wday=6, tm_yday=187, tm_isdst=0)\n",
      "년 :  2025\n",
      "월 :  7\n",
      "일 :  6\n",
      "시 :  23\n",
      "분 :  55\n",
      "초 :  20\n"
     ]
    }
   ],
   "source": [
    "te = time.gmtime(seconds) #GMT 기준 시간\n",
    "print(te)\n",
    "print(\"년 : \",te.tm_year)\n",
    "print(\"월 : \",te.tm_mon)\n",
    "print(\"일 : \",te.tm_mday)\n",
    "print(\"시 : \",te.tm_hour)\n",
    "print(\"분 : \",te.tm_min)\n",
    "print(\"초 : \",te.tm_sec)"
   ]
  },
  {
   "cell_type": "code",
   "execution_count": 11,
   "id": "9e3ca3ec",
   "metadata": {},
   "outputs": [
    {
     "name": "stdout",
     "output_type": "stream",
     "text": [
      "time.struct_time(tm_year=2025, tm_mon=7, tm_mday=4, tm_hour=10, tm_min=47, tm_sec=38, tm_wday=4, tm_yday=185, tm_isdst=0)\n",
      "년 :  2025\n",
      "월 :  7\n",
      "일 :  4\n",
      "시 :  10\n",
      "분 :  47\n",
      "초 :  38\n"
     ]
    }
   ],
   "source": [
    "tm = time.localtime(seconds) #현지 시간(Local Time)\n",
    "print(tm)\n",
    "print(\"년 : \",tm.tm_year)\n",
    "print(\"월 : \",tm.tm_mon)\n",
    "print(\"일 : \",tm.tm_mday)\n",
    "print(\"시 : \",tm.tm_hour)\n",
    "print(\"분 : \",tm.tm_min)\n",
    "print(\"초 : \",tm.tm_sec)"
   ]
  },
  {
   "cell_type": "code",
   "execution_count": 8,
   "id": "70b87ad8",
   "metadata": {},
   "outputs": [
    {
     "name": "stdout",
     "output_type": "stream",
     "text": [
      "Fri Jul  4 10:47:38 2025\n"
     ]
    }
   ],
   "source": [
    "#타임스탬프를 문자열로 변환하기\n",
    "string = time.ctime(seconds)\n",
    "print(string)"
   ]
  },
  {
   "cell_type": "code",
   "execution_count": 9,
   "id": "13269073",
   "metadata": {},
   "outputs": [
    {
     "name": "stdout",
     "output_type": "stream",
     "text": [
      "2025-07-04 10:47:38 AM\n"
     ]
    }
   ],
   "source": [
    "#시간을 특정 포맷으로 변환\n",
    "\"\"\"\n",
    "포맷 기호           의미\n",
    "%Y              네 자리 연도\n",
    "%y              두 자리 연도\n",
    "%m              월\n",
    "%d              일\n",
    "%A              요일       Sunday,Monday,...Saturday (형식으로 출력)\n",
    "%a              간략 요일 Sun,Mon,...Sat\n",
    "%H              시(24시) 0 ~ 23\n",
    "%I              시(12시) 1 ~ 12\n",
    "%p              AM 또는 PM\n",
    "%M              분 (소문자는 월, 대문자가 분)\n",
    "\"\"\"\n",
    "string2 = time.strftime(\"%Y-%m-%d %I:%M:%S %p\",tm)\n",
    "print(string2)"
   ]
  },
  {
   "cell_type": "code",
   "execution_count": 10,
   "id": "ebd11c41",
   "metadata": {},
   "outputs": [
    {
     "name": "stdout",
     "output_type": "stream",
     "text": [
      "시작\n",
      "5초 후 나타남!\n"
     ]
    }
   ],
   "source": [
    "print(\"시작\")\n",
    "time.sleep(5) #5초간 컴퓨터 실행 멈춤\n",
    "print(\"5초 후 나타남!\")"
   ]
  },
  {
   "cell_type": "code",
   "execution_count": 12,
   "id": "2e6d5ba3",
   "metadata": {},
   "outputs": [
    {
     "name": "stdout",
     "output_type": "stream",
     "text": [
      "소요시간: 0.04321694374084473\n"
     ]
    }
   ],
   "source": [
    "def func():\n",
    "    sum = 0\n",
    "    for i in range(1,1000001):\n",
    "        sum = sum + i\n",
    "\n",
    "start = time.time()\n",
    "func()\n",
    "end = time.time()\n",
    "print(\"소요시간:\",end-start)"
   ]
  }
 ],
 "metadata": {
  "kernelspec": {
   "display_name": "python_env",
   "language": "python",
   "name": "python3"
  },
  "language_info": {
   "codemirror_mode": {
    "name": "ipython",
    "version": 3
   },
   "file_extension": ".py",
   "mimetype": "text/x-python",
   "name": "python",
   "nbconvert_exporter": "python",
   "pygments_lexer": "ipython3",
   "version": "3.12.11"
  }
 },
 "nbformat": 4,
 "nbformat_minor": 5
}
